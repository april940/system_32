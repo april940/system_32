{
 "cells": [
  {
   "cell_type": "markdown",
   "metadata": {},
   "source": [
    "Distributed Evolutionary Algorithms"
   ]
  },
  {
   "cell_type": "code",
   "execution_count": 1,
   "metadata": {},
   "outputs": [],
   "source": [
    "import random\n",
    "import numpy as np\n",
    "from deap import base, creator, tools, algorithms"
   ]
  },
  {
   "cell_type": "code",
   "execution_count": 2,
   "metadata": {},
   "outputs": [],
   "source": [
    "# Create the FitnessMax and Individual classes using the creator\n",
    "creator.create(\"FitnessMax\", base.Fitness, weights=(1.0,))\n",
    "creator.create(\"Individual\", list, fitness=creator.FitnessMax)\n",
    "\n",
    "toolbox = base.Toolbox()\n",
    "toolbox.register(\"attr_bool\", random.randint, 0, 1)\n",
    "toolbox.register(\"individual\", tools.initRepeat, creator.Individual, toolbox.attr_bool, 100)\n",
    "toolbox.register(\"population\", tools.initRepeat, list, toolbox.individual)"
   ]
  },
  {
   "cell_type": "code",
   "execution_count": 3,
   "metadata": {},
   "outputs": [],
   "source": [
    "# Define the evaluation function\n",
    "def evalOneMax(individual):\n",
    "    return sum(individual),\n",
    "\n",
    "toolbox.register(\"evaluate\", evalOneMax)\n",
    "toolbox.register(\"mate\", tools.cxTwoPoint)\n",
    "toolbox.register(\"mutate\", tools.mutFlipBit, indpb=0.05)\n",
    "toolbox.register(\"select\", tools.selTournament, tournsize=3)"
   ]
  },
  {
   "cell_type": "code",
   "execution_count": 4,
   "metadata": {},
   "outputs": [
    {
     "name": "stdout",
     "output_type": "stream",
     "text": [
      "gen\tnevals\tavg    \tstd    \tmin\tmax\n",
      "0  \t300   \t49.6133\t5.08958\t34 \t63 \n",
      "1  \t182   \t53.51  \t4.17332\t42 \t68 \n",
      "2  \t164   \t57.0833\t3.48851\t49 \t71 \n",
      "3  \t195   \t59.73  \t3.59682\t49 \t74 \n",
      "4  \t174   \t62.5167\t3.76338\t54 \t75 \n",
      "5  \t167   \t65.45  \t3.46326\t54 \t75 \n",
      "6  \t192   \t68.2467\t3.33454\t59 \t75 \n",
      "7  \t171   \t70.2533\t2.8918 \t60 \t78 \n",
      "8  \t172   \t72.45  \t2.73876\t63 \t78 \n",
      "9  \t189   \t74.1333\t2.47431\t66 \t81 \n",
      "10 \t183   \t75.8267\t2.38816\t67 \t82 \n",
      "11 \t180   \t77.35  \t2.41816\t69 \t84 \n",
      "12 \t185   \t78.7267\t2.36191\t72 \t85 \n",
      "13 \t163   \t79.92  \t2.49003\t68 \t85 \n",
      "14 \t176   \t81.23  \t2.35452\t70 \t87 \n",
      "15 \t169   \t82.6767\t2.49776\t72 \t89 \n",
      "16 \t180   \t83.8433\t2.4136 \t75 \t89 \n",
      "17 \t188   \t85.0433\t2.35403\t77 \t90 \n",
      "18 \t190   \t86.1967\t2.0342 \t80 \t90 \n",
      "19 \t180   \t87.09  \t2.26169\t78 \t92 \n",
      "20 \t195   \t88     \t2.14631\t80 \t92 \n",
      "21 \t182   \t88.7333\t2.10291\t81 \t92 \n",
      "22 \t180   \t89.3567\t2.23222\t80 \t93 \n",
      "23 \t158   \t90.21  \t2.08308\t81 \t96 \n",
      "24 \t174   \t90.8733\t2.32751\t82 \t96 \n",
      "25 \t179   \t91.6567\t2.51239\t80 \t96 \n",
      "26 \t191   \t92.7233\t2.37068\t84 \t96 \n",
      "27 \t181   \t93.6   \t2.3094 \t86 \t97 \n",
      "28 \t173   \t94.0433\t2.41691\t84 \t97 \n",
      "29 \t181   \t94.78  \t2.06194\t87 \t98 \n",
      "30 \t195   \t95.0133\t2.43991\t84 \t98 \n",
      "31 \t175   \t95.5567\t1.90966\t88 \t98 \n",
      "32 \t172   \t95.9167\t2.084  \t86 \t99 \n",
      "33 \t162   \t96.2333\t2.00139\t87 \t99 \n",
      "34 \t196   \t96.41  \t2.10916\t88 \t99 \n",
      "35 \t198   \t96.69  \t2.19558\t87 \t99 \n",
      "36 \t182   \t97.1267\t2.19938\t87 \t99 \n",
      "37 \t172   \t97.5633\t2.29187\t87 \t99 \n",
      "38 \t201   \t97.5667\t2.54668\t86 \t99 \n",
      "39 \t198   \t97.9633\t2.17914\t89 \t99 \n",
      "40 \t179   \t97.9533\t2.22212\t90 \t99 \n"
     ]
    }
   ],
   "source": [
    "def main():\n",
    "    pop = toolbox.population(n=300)\n",
    "    hof = tools.HallOfFame(1)\n",
    "    stats = tools.Statistics(lambda ind: ind.fitness.values)\n",
    "    stats.register(\"avg\", np.mean)\n",
    "    stats.register(\"std\", np.std)\n",
    "    stats.register(\"min\", np.min)\n",
    "    stats.register(\"max\", np.max)\n",
    "\n",
    "    pop, log = algorithms.eaSimple(pop, toolbox, cxpb=0.5, mutpb=0.2, ngen=40,\n",
    "                                   stats=stats, halloffame=hof, verbose=True)\n",
    "\n",
    "if __name__ == \"__main__\":\n",
    "    main()\n"
   ]
  },
  {
   "cell_type": "code",
   "execution_count": null,
   "metadata": {},
   "outputs": [],
   "source": []
  }
 ],
 "metadata": {
  "kernelspec": {
   "display_name": "Python 3",
   "language": "python",
   "name": "python3"
  },
  "language_info": {
   "codemirror_mode": {
    "name": "ipython",
    "version": 3
   },
   "file_extension": ".py",
   "mimetype": "text/x-python",
   "name": "python",
   "nbconvert_exporter": "python",
   "pygments_lexer": "ipython3",
   "version": "3.11.7"
  }
 },
 "nbformat": 4,
 "nbformat_minor": 2
}
