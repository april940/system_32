{
 "cells": [
  {
   "cell_type": "markdown",
   "metadata": {},
   "source": [
    "Genetic Algorithm Parameters"
   ]
  },
  {
   "cell_type": "code",
   "execution_count": 1,
   "metadata": {},
   "outputs": [
    {
     "data": {
      "text/plain": [
       "'! pip install deap\\n! pip install scoop'"
      ]
     },
     "execution_count": 1,
     "metadata": {},
     "output_type": "execute_result"
    }
   ],
   "source": [
    "\"\"\"! pip install deap\n",
    "! pip install scoop\"\"\""
   ]
  },
  {
   "cell_type": "code",
   "execution_count": 2,
   "metadata": {},
   "outputs": [],
   "source": [
    "import random\n",
    "from deap import base, creator, tools, algorithms\n",
    "from sklearn.model_selection import train_test_split\n",
    "from sklearn.neural_network import MLPClassifier\n",
    "from sklearn.metrics import accuracy_score\n",
    "from sklearn.datasets import load_iris\n",
    "from sklearn.preprocessing import StandardScaler"
   ]
  },
  {
   "cell_type": "code",
   "execution_count": 3,
   "metadata": {},
   "outputs": [],
   "source": [
    "iris = load_iris()\n",
    "X = iris.data\n",
    "y = iris.target\n",
    "\n",
    "scaler = StandardScaler()\n",
    "X_normalized = scaler.fit_transform(X)\n",
    "\n",
    "X_train, X_test, y_train, y_test = train_test_split(X_normalized, y, test_size=0.2, random_state=42)"
   ]
  },
  {
   "cell_type": "code",
   "execution_count": 4,
   "metadata": {},
   "outputs": [],
   "source": [
    "def evaluate(individual):\n",
    "    neurons = individual[0]\n",
    "    layers = individual[1]\n",
    "\n",
    "    model = MLPClassifier(hidden_layer_sizes=(neurons,) * layers, random_state=42, max_iter=10000)\n",
    "    model.fit(X_train, y_train)\n",
    "\n",
    "    predictions = model.predict(X_test)\n",
    "    accuracy = accuracy_score(y_test, predictions)\n",
    "    print(f'n_Neurons: {neurons}. n_Layers:{layers}. ___ACC___: {accuracy}\\n')\n",
    "\n",
    "    return accuracy,\n",
    "\n",
    "POPULATION_SIZE = 10\n",
    "GENERATIONS = 5\n",
    "\n",
    "creator.create(\"FitnessMax\", base.Fitness, weights=(1.0,))\n",
    "creator.create(\"Individual\", list, fitness=creator.FitnessMax)\n",
    "\n",
    "toolbox = base.Toolbox()\n",
    "\n",
    "toolbox.register(\"attr_neurons\", random.randint, 1, 100)\n",
    "toolbox.register(\"attr_layers\", random.randint, 1, 5)\n",
    "toolbox.register(\"individual\", tools.initCycle, creator.Individual, (toolbox.attr_neurons, toolbox.attr_layers), n=1)\n",
    "toolbox.register(\"population\", tools.initRepeat, list, toolbox.individual)\n",
    "\n",
    "toolbox.register(\"evaluate\", evaluate)\n",
    "toolbox.register(\"mate\", tools.cxTwoPoint)\n",
    "toolbox.register(\"mutate\", tools.mutUniformInt, low=1, up=100, indpb=0.2)\n",
    "toolbox.register(\"select\", tools.selTournament, tournsize=3)\n",
    "\n",
    "population = toolbox.population(n=POPULATION_SIZE)\n"
   ]
  },
  {
   "cell_type": "code",
   "execution_count": 5,
   "metadata": {},
   "outputs": [
    {
     "name": "stdout",
     "output_type": "stream",
     "text": [
      "n_Neurons: 75. n_Layers:3. ___ACC___: 1.0\n",
      "\n",
      "n_Neurons: 15. n_Layers:2. ___ACC___: 1.0\n",
      "\n",
      "n_Neurons: 17. n_Layers:2. ___ACC___: 1.0\n",
      "\n",
      "n_Neurons: 8. n_Layers:1. ___ACC___: 1.0\n",
      "\n",
      "n_Neurons: 14. n_Layers:2. ___ACC___: 1.0\n",
      "\n",
      "n_Neurons: 19. n_Layers:4. ___ACC___: 0.9666666666666667\n",
      "\n",
      "n_Neurons: 56. n_Layers:3. ___ACC___: 1.0\n",
      "\n",
      "n_Neurons: 86. n_Layers:3. ___ACC___: 1.0\n",
      "\n",
      "n_Neurons: 84. n_Layers:4. ___ACC___: 0.9666666666666667\n",
      "\n",
      "n_Neurons: 96. n_Layers:1. ___ACC___: 1.0\n",
      "\n",
      "n_Neurons: 17. n_Layers:2. ___ACC___: 1.0\n",
      "\n",
      "n_Neurons: 86. n_Layers:3. ___ACC___: 1.0\n",
      "\n",
      "n_Neurons: 14. n_Layers:2. ___ACC___: 1.0\n",
      "\n",
      "n_Neurons: 15. n_Layers:2. ___ACC___: 1.0\n",
      "\n",
      "n_Neurons: 96. n_Layers:1. ___ACC___: 1.0\n",
      "\n",
      "n_Neurons: 17. n_Layers:2. ___ACC___: 1.0\n",
      "\n",
      "n_Neurons: 14. n_Layers:2. ___ACC___: 1.0\n",
      "\n",
      "n_Neurons: 17. n_Layers:2. ___ACC___: 1.0\n",
      "\n",
      "n_Neurons: 14. n_Layers:2. ___ACC___: 1.0\n",
      "\n",
      "n_Neurons: 15. n_Layers:2. ___ACC___: 1.0\n",
      "\n",
      "n_Neurons: 14. n_Layers:1. ___ACC___: 1.0\n",
      "\n",
      "n_Neurons: 96. n_Layers:2. ___ACC___: 1.0\n",
      "\n",
      "n_Neurons: 15. n_Layers:2. ___ACC___: 1.0\n",
      "\n",
      "n_Neurons: 15. n_Layers:2. ___ACC___: 1.0\n",
      "\n",
      "n_Neurons: 15. n_Layers:2. ___ACC___: 1.0\n",
      "\n",
      "n_Neurons: 17. n_Layers:2. ___ACC___: 1.0\n",
      "\n",
      "n_Neurons: 14. n_Layers:2. ___ACC___: 1.0\n",
      "\n",
      "n_Neurons: 14. n_Layers:2. ___ACC___: 1.0\n",
      "\n",
      "n_Neurons: 96. n_Layers:3. ___ACC___: 1.0\n",
      "\n",
      "n_Neurons: 86. n_Layers:1. ___ACC___: 1.0\n",
      "\n",
      "n_Neurons: 96. n_Layers:2. ___ACC___: 1.0\n",
      "\n",
      "n_Neurons: 15. n_Layers:2. ___ACC___: 1.0\n",
      "\n",
      "n_Neurons: 15. n_Layers:2. ___ACC___: 1.0\n",
      "\n",
      "n_Neurons: 15. n_Layers:2. ___ACC___: 1.0\n",
      "\n",
      "n_Neurons: 14. n_Layers:2. ___ACC___: 1.0\n",
      "\n",
      "n_Neurons: 96. n_Layers:2. ___ACC___: 1.0\n",
      "\n",
      "n_Neurons: 14. n_Layers:1. ___ACC___: 1.0\n",
      "\n",
      "n_Neurons: 15. n_Layers:2. ___ACC___: 1.0\n",
      "\n",
      "n_Neurons: 86. n_Layers:2. ___ACC___: 1.0\n",
      "\n",
      "n_Neurons: 15. n_Layers:1. ___ACC___: 1.0\n",
      "\n",
      "n_Neurons: 96. n_Layers:1. ___ACC___: 1.0\n",
      "\n",
      "n_Neurons: 14. n_Layers:2. ___ACC___: 1.0\n",
      "\n",
      "n_Neurons: 15. n_Layers:2. ___ACC___: 1.0\n",
      "\n",
      "n_Neurons: 15. n_Layers:2. ___ACC___: 1.0\n",
      "\n",
      "n_Neurons: 15. n_Layers:2. ___ACC___: 1.0\n",
      "\n",
      "n_Neurons: 15. n_Layers:2. ___ACC___: 1.0\n",
      "\n",
      "n_Neurons: 96. n_Layers:2. ___ACC___: 1.0\n",
      "\n",
      "n_Neurons: 15. n_Layers:2. ___ACC___: 1.0\n",
      "\n",
      "n_Neurons: 14. n_Layers:1. ___ACC___: 1.0\n",
      "\n",
      "n_Neurons: 96. n_Layers:2. ___ACC___: 1.0\n",
      "\n",
      "Best Parameters: [15, 2]\n"
     ]
    }
   ],
   "source": [
    "for gen in range(GENERATIONS):\n",
    "    offspring = algorithms.varAnd(population, toolbox, cxpb=0.5, mutpb=0.1)\n",
    "\n",
    "    fitnesses = toolbox.map(toolbox.evaluate, offspring)\n",
    "    for ind, fit in zip(offspring, fitnesses):\n",
    "        ind.fitness.values = fit\n",
    "\n",
    "    population = toolbox.select(offspring, k=len(population))\n",
    "\n",
    "best_individual = tools.selBest(population, k=1)[0]\n",
    "best_params = best_individual\n",
    "\n",
    "print(\"Best Parameters:\", best_params)"
   ]
  },
  {
   "cell_type": "code",
   "execution_count": null,
   "metadata": {},
   "outputs": [],
   "source": []
  }
 ],
 "metadata": {
  "kernelspec": {
   "display_name": "Python 3",
   "language": "python",
   "name": "python3"
  },
  "language_info": {
   "codemirror_mode": {
    "name": "ipython",
    "version": 3
   },
   "file_extension": ".py",
   "mimetype": "text/x-python",
   "name": "python",
   "nbconvert_exporter": "python",
   "pygments_lexer": "ipython3",
   "version": "3.11.7"
  }
 },
 "nbformat": 4,
 "nbformat_minor": 2
}
