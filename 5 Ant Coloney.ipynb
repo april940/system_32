{
 "cells": [
  {
   "cell_type": "markdown",
   "metadata": {},
   "source": [
    "Ant colony optimization for solving the Traveling salesman problem"
   ]
  },
  {
   "cell_type": "code",
   "execution_count": 1,
   "metadata": {},
   "outputs": [],
   "source": [
    "import numpy as np\n"
   ]
  },
  {
   "cell_type": "code",
   "execution_count": 2,
   "metadata": {},
   "outputs": [],
   "source": [
    "class AntColony:\n",
    "    def __init__(self, distances, n_ants, n_iterations, decay, alpha=1, beta=3):\n",
    "        self.distances = distances\n",
    "        self.pheromone = np.ones_like(distances, dtype=float)\n",
    "        self.n_ants = n_ants\n",
    "        self.n_iterations = n_iterations\n",
    "        self.decay = decay\n",
    "        self.alpha = alpha\n",
    "        self.beta = beta\n",
    "\n",
    "    def run(self):\n",
    "        n_cities = len(self.distances)\n",
    "        best_route = None\n",
    "        best_distance = np.inf\n",
    "\n",
    "        for _ in range(self.n_iterations):\n",
    "            routes = self.generate_routes()\n",
    "            self.update_pheromone(routes)\n",
    "\n",
    "            shortest_route_index = np.argmin([self.route_distance(route) for route in routes])\n",
    "            shortest_distance = self.route_distance(routes[shortest_route_index])\n",
    "\n",
    "            if shortest_distance < best_distance:\n",
    "                best_distance = shortest_distance\n",
    "                best_route = routes[shortest_route_index]\n",
    "\n",
    "            self.pheromone *= self.decay\n",
    "\n",
    "        return best_route, best_distance\n",
    "\n",
    "    def generate_routes(self):\n",
    "        n_cities = len(self.distances)\n",
    "        routes = []\n",
    "\n",
    "        for _ in range(self.n_ants):\n",
    "            visited = [0]\n",
    "            unvisited = list(range(1, n_cities))\n",
    "\n",
    "            while unvisited:\n",
    "                next_city = self.select_next_city(visited[-1], unvisited)\n",
    "                visited.append(next_city)\n",
    "                unvisited.remove(next_city)\n",
    "\n",
    "            route = visited + [visited[0]]  # Return to start city\n",
    "            routes.append(route)\n",
    "\n",
    "        return routes\n",
    "\n",
    "    def select_next_city(self, current_city, unvisited):\n",
    "        pheromone = self.pheromone[current_city, unvisited]\n",
    "        heuristic = 1 / self.distances[current_city, unvisited]\n",
    "        probabilities = (pheromone ** self.alpha) * (heuristic ** self.beta)\n",
    "        probabilities /= probabilities.sum()\n",
    "        next_city = np.random.choice(unvisited, p=probabilities)\n",
    "        return next_city\n",
    "\n",
    "    def route_distance(self, route):\n",
    "        distance = 0\n",
    "        for i in range(len(route) - 1):\n",
    "            distance += self.distances[route[i], route[i + 1]]\n",
    "        return distance\n",
    "\n",
    "    def update_pheromone(self, routes):\n",
    "        for route in routes:\n",
    "            distance = self.route_distance(route)\n",
    "            for i in range(len(route) - 1):\n",
    "                self.pheromone[route[i], route[i + 1]] += 1 / distance\n",
    "                self.pheromone[route[i + 1], route[i]] += 1 / distance\n",
    "                "
   ]
  },
  {
   "cell_type": "code",
   "execution_count": 3,
   "metadata": {},
   "outputs": [
    {
     "name": "stdout",
     "output_type": "stream",
     "text": [
      "Best Route: [0, 1, 3, 2, 0]\n",
      "Best Distance: 80\n"
     ]
    }
   ],
   "source": [
    "# Define distances between cities (replace this with your actual data)\n",
    "distances = np.array([\n",
    "    [0, 10, 15, 20],\n",
    "    [10, 0, 35, 25],\n",
    "    [15, 35, 0, 30],\n",
    "    [20, 25, 30, 0]\n",
    "])\n",
    "\n",
    "# Set parameters\n",
    "n_ants = 10\n",
    "n_iterations = 100\n",
    "decay = 0.1\n",
    "\n",
    "# Create and run AntColony\n",
    "aco = AntColony(distances, n_ants, n_iterations, decay)\n",
    "best_route, best_distance = aco.run()\n",
    "\n",
    "print(\"Best Route:\", best_route)\n",
    "print(\"Best Distance:\", best_distance)\n"
   ]
  },
  {
   "cell_type": "code",
   "execution_count": null,
   "metadata": {},
   "outputs": [],
   "source": []
  }
 ],
 "metadata": {
  "kernelspec": {
   "display_name": "Python 3",
   "language": "python",
   "name": "python3"
  },
  "language_info": {
   "codemirror_mode": {
    "name": "ipython",
    "version": 3
   },
   "file_extension": ".py",
   "mimetype": "text/x-python",
   "name": "python",
   "nbconvert_exporter": "python",
   "pygments_lexer": "ipython3",
   "version": "3.11.7"
  }
 },
 "nbformat": 4,
 "nbformat_minor": 2
}
